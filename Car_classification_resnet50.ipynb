{
  "nbformat": 4,
  "nbformat_minor": 0,
  "metadata": {
    "colab": {
      "name": "Car classification resnet50.ipynb",
      "provenance": [],
      "authorship_tag": "ABX9TyMxomWmNtqZk0xieGlgwq+o",
      "include_colab_link": true
    },
    "kernelspec": {
      "name": "python3",
      "display_name": "Python 3"
    },
    "language_info": {
      "name": "python"
    },
    "accelerator": "GPU"
  },
  "cells": [
    {
      "cell_type": "markdown",
      "metadata": {
        "id": "view-in-github",
        "colab_type": "text"
      },
      "source": [
        "<a href=\"https://colab.research.google.com/github/HariPrabu741/Deep-Learning-Car-Brand-Project/blob/main/Car_classification_resnet50.ipynb\" target=\"_parent\"><img src=\"https://colab.research.google.com/assets/colab-badge.svg\" alt=\"Open In Colab\"/></a>"
      ]
    },
    {
      "cell_type": "code",
      "metadata": {
        "id": "NgQEwwTy9dP_"
      },
      "source": [
        "# Importing the packages for model creation\n",
        "\n",
        "from tensorflow.keras.layers import Dense, Flatten, Input\n",
        "from tensorflow.keras.models import Model\n",
        "from tensorflow.keras.preprocessing import image\n",
        "from tensorflow.keras.preprocessing.image import ImageDataGenerator, load_img\n",
        "from tensorflow.keras.applications.resnet50 import ResNet50, preprocess_input\n",
        "from glob import glob\n",
        "import numpy as np\n",
        "import matplotlib.pyplot as plt\n"
      ],
      "execution_count": 41,
      "outputs": []
    },
    {
      "cell_type": "code",
      "metadata": {
        "colab": {
          "base_uri": "https://localhost:8080/"
        },
        "id": "-eSKyYe1-7cE",
        "outputId": "e66300ab-d9d8-40c2-d137-48c151822e20"
      },
      "source": [
        "!unzip '/content/Datasets.zip'"
      ],
      "execution_count": 42,
      "outputs": [
        {
          "output_type": "stream",
          "name": "stdout",
          "text": [
            "Archive:  /content/Datasets.zip\n",
            "replace Datasets/Test/audi/21.jpg? [y]es, [n]o, [A]ll, [N]one, [r]ename: all\n",
            "error:  invalid response [all]\n",
            "replace Datasets/Test/audi/21.jpg? [y]es, [n]o, [A]ll, [N]one, [r]ename: All\n",
            "  inflating: Datasets/Test/audi/21.jpg  \n",
            "  inflating: Datasets/Test/audi/22.jpg  \n",
            "  inflating: Datasets/Test/audi/23.jpg  \n",
            "  inflating: Datasets/Test/audi/24.jpg  \n",
            "  inflating: Datasets/Test/audi/25.jpg  \n",
            "  inflating: Datasets/Test/audi/26.jpg  \n",
            "  inflating: Datasets/Test/audi/27.jpg  \n",
            " extracting: Datasets/Test/audi/28.jpg  \n",
            "  inflating: Datasets/Test/audi/29.jpg  \n",
            "  inflating: Datasets/Test/lamborghini/1.jpg  \n",
            "  inflating: Datasets/Test/lamborghini/10.jpg  \n",
            "  inflating: Datasets/Test/lamborghini/11.jpg  \n",
            "  inflating: Datasets/Test/lamborghini/12.jpg  \n",
            "  inflating: Datasets/Test/lamborghini/13.jpg  \n",
            "  inflating: Datasets/Test/lamborghini/14.jpg  \n",
            "  inflating: Datasets/Test/lamborghini/15.jpg  \n",
            "  inflating: Datasets/Test/lamborghini/16.jpg  \n",
            "  inflating: Datasets/Test/lamborghini/17.jpg  \n",
            "  inflating: Datasets/Test/lamborghini/18.jpg  \n",
            "  inflating: Datasets/Test/lamborghini/19.jpg  \n",
            "  inflating: Datasets/Test/lamborghini/2.jpg  \n",
            "  inflating: Datasets/Test/lamborghini/20.jog.jpg  \n",
            "  inflating: Datasets/Test/lamborghini/21.jpg  \n",
            "  inflating: Datasets/Test/lamborghini/22.jpg  \n",
            "  inflating: Datasets/Test/lamborghini/23.jpg  \n",
            "  inflating: Datasets/Test/lamborghini/24.jpg  \n",
            "  inflating: Datasets/Test/lamborghini/25.jpg  \n",
            "  inflating: Datasets/Test/lamborghini/26.jpg  \n",
            "  inflating: Datasets/Test/lamborghini/27.jpg  \n",
            "  inflating: Datasets/Test/lamborghini/28.jpg  \n",
            "  inflating: Datasets/Test/lamborghini/29.jpg  \n",
            "  inflating: Datasets/Test/lamborghini/3.jpg  \n",
            "  inflating: Datasets/Test/lamborghini/30.jpg  \n",
            "  inflating: Datasets/Test/lamborghini/4.jpg  \n",
            "  inflating: Datasets/Test/lamborghini/5.jpg  \n",
            "  inflating: Datasets/Test/lamborghini/6.jpg  \n",
            "  inflating: Datasets/Test/lamborghini/7.jpg  \n",
            "  inflating: Datasets/Test/lamborghini/8.jpg  \n",
            "  inflating: Datasets/Test/lamborghini/9.jpg  \n",
            "  inflating: Datasets/Test/mercedes/27.jpg  \n",
            "  inflating: Datasets/Test/mercedes/28.jpg  \n",
            "  inflating: Datasets/Test/mercedes/29.jpg  \n",
            "  inflating: Datasets/Test/mercedes/30.jpg  \n",
            "  inflating: Datasets/Test/mercedes/31.jpg  \n",
            "  inflating: Datasets/Test/mercedes/32.jpg  \n",
            "  inflating: Datasets/Test/mercedes/33.jpg  \n",
            "  inflating: Datasets/Test/mercedes/34.jpg  \n",
            "  inflating: Datasets/Test/mercedes/35.jpg  \n",
            "  inflating: Datasets/Test/mercedes/36.jpg  \n",
            "  inflating: Datasets/Test/mercedes/37.jpg  \n",
            "  inflating: Datasets/Test/mercedes/38.jpg  \n",
            "  inflating: Datasets/Test/mercedes/39.jpg  \n",
            "  inflating: Datasets/Test/mercedes/40.jpg  \n",
            "  inflating: Datasets/Test/mercedes/41.jpg  \n",
            "  inflating: Datasets/Test/mercedes/42.jpg  \n",
            "  inflating: Datasets/Test/mercedes/43.jpg  \n",
            "  inflating: Datasets/Test/mercedes/44.jpg  \n",
            "  inflating: Datasets/Test/mercedes/45.jpg  \n",
            "  inflating: Datasets/Train/audi/1.jpg  \n",
            "  inflating: Datasets/Train/audi/10.jpg  \n",
            "  inflating: Datasets/Train/audi/11.jpg  \n",
            "  inflating: Datasets/Train/audi/12.jpg  \n",
            "  inflating: Datasets/Train/audi/13.jpg  \n",
            "  inflating: Datasets/Train/audi/14.jpg  \n",
            "  inflating: Datasets/Train/audi/15.jpg  \n",
            "  inflating: Datasets/Train/audi/16.jpg  \n",
            "  inflating: Datasets/Train/audi/17.jpg  \n",
            "  inflating: Datasets/Train/audi/18.jpg  \n",
            "  inflating: Datasets/Train/audi/19.jpg  \n",
            "  inflating: Datasets/Train/audi/2.jpg  \n",
            "  inflating: Datasets/Train/audi/20.jpg  \n",
            "  inflating: Datasets/Train/audi/3.jpg  \n",
            "  inflating: Datasets/Train/audi/4.jpg  \n",
            "  inflating: Datasets/Train/audi/5.jpg  \n",
            "  inflating: Datasets/Train/audi/6.jpg  \n",
            "  inflating: Datasets/Train/audi/7.jpg  \n",
            "  inflating: Datasets/Train/audi/8.jpg  \n",
            "  inflating: Datasets/Train/audi/9.jpg  \n",
            "  inflating: Datasets/Train/lamborghini/1.jpg  \n",
            "  inflating: Datasets/Train/lamborghini/10.jpg  \n",
            "  inflating: Datasets/Train/lamborghini/11.jpg  \n",
            "  inflating: Datasets/Train/lamborghini/12.jpg  \n",
            "  inflating: Datasets/Train/lamborghini/13.jpg  \n",
            "  inflating: Datasets/Train/lamborghini/14.jpg  \n",
            "  inflating: Datasets/Train/lamborghini/15.jpg  \n",
            "  inflating: Datasets/Train/lamborghini/16.jpg  \n",
            "  inflating: Datasets/Train/lamborghini/17.jpg  \n",
            "  inflating: Datasets/Train/lamborghini/18.jpg  \n",
            "  inflating: Datasets/Train/lamborghini/19.jpg  \n",
            "  inflating: Datasets/Train/lamborghini/2.jpg  \n",
            "  inflating: Datasets/Train/lamborghini/3.jpg  \n",
            "  inflating: Datasets/Train/lamborghini/4.jpg  \n",
            "  inflating: Datasets/Train/lamborghini/5.jpg  \n",
            "  inflating: Datasets/Train/lamborghini/6.jpg  \n",
            "  inflating: Datasets/Train/lamborghini/7.jpg  \n",
            "  inflating: Datasets/Train/lamborghini/8.jpg  \n",
            "  inflating: Datasets/Train/lamborghini/9.jpg  \n",
            "  inflating: Datasets/Train/mercedes/1.jpg  \n",
            "  inflating: Datasets/Train/mercedes/10.jpg  \n",
            "  inflating: Datasets/Train/mercedes/11.jpg  \n",
            "  inflating: Datasets/Train/mercedes/12.jpg  \n",
            "  inflating: Datasets/Train/mercedes/13.jpg  \n",
            "  inflating: Datasets/Train/mercedes/14.jpg  \n",
            "  inflating: Datasets/Train/mercedes/15.jpg  \n",
            "  inflating: Datasets/Train/mercedes/16.jpg  \n",
            "  inflating: Datasets/Train/mercedes/17.jpg  \n",
            "  inflating: Datasets/Train/mercedes/18.jpg  \n",
            "  inflating: Datasets/Train/mercedes/19.jpg  \n",
            "  inflating: Datasets/Train/mercedes/2.jpg  \n",
            "  inflating: Datasets/Train/mercedes/20.jpg  \n",
            "  inflating: Datasets/Train/mercedes/21.jpg  \n",
            "  inflating: Datasets/Train/mercedes/22.jpg  \n",
            "  inflating: Datasets/Train/mercedes/23.jpg  \n",
            "  inflating: Datasets/Train/mercedes/24.jpg  \n",
            "  inflating: Datasets/Train/mercedes/25.jpg  \n",
            " extracting: Datasets/Train/mercedes/3.jpg  \n",
            " extracting: Datasets/Train/mercedes/4.jpg  \n",
            "  inflating: Datasets/Train/mercedes/5.jpg  \n",
            "  inflating: Datasets/Train/mercedes/6.jpg  \n",
            "  inflating: Datasets/Train/mercedes/7.jpg  \n",
            "  inflating: Datasets/Train/mercedes/8.jpf.jpg  \n",
            "  inflating: Datasets/Train/mercedes/9.jpg  \n"
          ]
        }
      ]
    },
    {
      "cell_type": "code",
      "metadata": {
        "id": "FRpyVBs5BjBx"
      },
      "source": [
        "train_path=\"/content/Datasets/Train\"\n",
        "test_path=\"/content/Datasets/Test\"\n",
        "img_size=[224,224]"
      ],
      "execution_count": 43,
      "outputs": []
    },
    {
      "cell_type": "code",
      "metadata": {
        "id": "6SNzwYtBB2I0"
      },
      "source": [
        "resnet=ResNet50(include_top=False, weights='imagenet', input_shape=img_size + [3])"
      ],
      "execution_count": 44,
      "outputs": []
    },
    {
      "cell_type": "code",
      "metadata": {
        "id": "qY4UV_l_DGPY"
      },
      "source": [
        "for layers in resnet.layers:\n",
        "  layers.trainable=False"
      ],
      "execution_count": 45,
      "outputs": []
    },
    {
      "cell_type": "code",
      "metadata": {
        "colab": {
          "base_uri": "https://localhost:8080/"
        },
        "id": "fhmHCvcMXrKS",
        "outputId": "7e9e27fc-5684-4d91-f2b7-c0299171cd84"
      },
      "source": [
        "folder=glob(\"/content/Datasets/Train/*\")\n",
        "len(folder)"
      ],
      "execution_count": 46,
      "outputs": [
        {
          "output_type": "execute_result",
          "data": {
            "text/plain": [
              "3"
            ]
          },
          "metadata": {},
          "execution_count": 46
        }
      ]
    },
    {
      "cell_type": "code",
      "metadata": {
        "id": "m8Ld1W4nZu18"
      },
      "source": [
        "x=Flatten()(resnet.output)"
      ],
      "execution_count": 47,
      "outputs": []
    },
    {
      "cell_type": "code",
      "metadata": {
        "id": "x5ugpSPHZ8Ap"
      },
      "source": [
        "prediction=Dense(len(folder),activation='softmax')(x)"
      ],
      "execution_count": 48,
      "outputs": []
    },
    {
      "cell_type": "code",
      "metadata": {
        "id": "c7BHXuLaaTPF"
      },
      "source": [
        "model=Model(inputs=resnet.input,outputs=prediction)"
      ],
      "execution_count": 49,
      "outputs": []
    },
    {
      "cell_type": "code",
      "metadata": {
        "colab": {
          "base_uri": "https://localhost:8080/"
        },
        "id": "NNQcjmfjamvJ",
        "outputId": "e7e0fc67-c982-42ed-bfc7-c1253a21d89e"
      },
      "source": [
        "model.summary()"
      ],
      "execution_count": 50,
      "outputs": [
        {
          "output_type": "stream",
          "name": "stdout",
          "text": [
            "Model: \"model_2\"\n",
            "__________________________________________________________________________________________________\n",
            "Layer (type)                    Output Shape         Param #     Connected to                     \n",
            "==================================================================================================\n",
            "input_3 (InputLayer)            [(None, 224, 224, 3) 0                                            \n",
            "__________________________________________________________________________________________________\n",
            "conv1_pad (ZeroPadding2D)       (None, 230, 230, 3)  0           input_3[0][0]                    \n",
            "__________________________________________________________________________________________________\n",
            "conv1_conv (Conv2D)             (None, 112, 112, 64) 9472        conv1_pad[0][0]                  \n",
            "__________________________________________________________________________________________________\n",
            "conv1_bn (BatchNormalization)   (None, 112, 112, 64) 256         conv1_conv[0][0]                 \n",
            "__________________________________________________________________________________________________\n",
            "conv1_relu (Activation)         (None, 112, 112, 64) 0           conv1_bn[0][0]                   \n",
            "__________________________________________________________________________________________________\n",
            "pool1_pad (ZeroPadding2D)       (None, 114, 114, 64) 0           conv1_relu[0][0]                 \n",
            "__________________________________________________________________________________________________\n",
            "pool1_pool (MaxPooling2D)       (None, 56, 56, 64)   0           pool1_pad[0][0]                  \n",
            "__________________________________________________________________________________________________\n",
            "conv2_block1_1_conv (Conv2D)    (None, 56, 56, 64)   4160        pool1_pool[0][0]                 \n",
            "__________________________________________________________________________________________________\n",
            "conv2_block1_1_bn (BatchNormali (None, 56, 56, 64)   256         conv2_block1_1_conv[0][0]        \n",
            "__________________________________________________________________________________________________\n",
            "conv2_block1_1_relu (Activation (None, 56, 56, 64)   0           conv2_block1_1_bn[0][0]          \n",
            "__________________________________________________________________________________________________\n",
            "conv2_block1_2_conv (Conv2D)    (None, 56, 56, 64)   36928       conv2_block1_1_relu[0][0]        \n",
            "__________________________________________________________________________________________________\n",
            "conv2_block1_2_bn (BatchNormali (None, 56, 56, 64)   256         conv2_block1_2_conv[0][0]        \n",
            "__________________________________________________________________________________________________\n",
            "conv2_block1_2_relu (Activation (None, 56, 56, 64)   0           conv2_block1_2_bn[0][0]          \n",
            "__________________________________________________________________________________________________\n",
            "conv2_block1_0_conv (Conv2D)    (None, 56, 56, 256)  16640       pool1_pool[0][0]                 \n",
            "__________________________________________________________________________________________________\n",
            "conv2_block1_3_conv (Conv2D)    (None, 56, 56, 256)  16640       conv2_block1_2_relu[0][0]        \n",
            "__________________________________________________________________________________________________\n",
            "conv2_block1_0_bn (BatchNormali (None, 56, 56, 256)  1024        conv2_block1_0_conv[0][0]        \n",
            "__________________________________________________________________________________________________\n",
            "conv2_block1_3_bn (BatchNormali (None, 56, 56, 256)  1024        conv2_block1_3_conv[0][0]        \n",
            "__________________________________________________________________________________________________\n",
            "conv2_block1_add (Add)          (None, 56, 56, 256)  0           conv2_block1_0_bn[0][0]          \n",
            "                                                                 conv2_block1_3_bn[0][0]          \n",
            "__________________________________________________________________________________________________\n",
            "conv2_block1_out (Activation)   (None, 56, 56, 256)  0           conv2_block1_add[0][0]           \n",
            "__________________________________________________________________________________________________\n",
            "conv2_block2_1_conv (Conv2D)    (None, 56, 56, 64)   16448       conv2_block1_out[0][0]           \n",
            "__________________________________________________________________________________________________\n",
            "conv2_block2_1_bn (BatchNormali (None, 56, 56, 64)   256         conv2_block2_1_conv[0][0]        \n",
            "__________________________________________________________________________________________________\n",
            "conv2_block2_1_relu (Activation (None, 56, 56, 64)   0           conv2_block2_1_bn[0][0]          \n",
            "__________________________________________________________________________________________________\n",
            "conv2_block2_2_conv (Conv2D)    (None, 56, 56, 64)   36928       conv2_block2_1_relu[0][0]        \n",
            "__________________________________________________________________________________________________\n",
            "conv2_block2_2_bn (BatchNormali (None, 56, 56, 64)   256         conv2_block2_2_conv[0][0]        \n",
            "__________________________________________________________________________________________________\n",
            "conv2_block2_2_relu (Activation (None, 56, 56, 64)   0           conv2_block2_2_bn[0][0]          \n",
            "__________________________________________________________________________________________________\n",
            "conv2_block2_3_conv (Conv2D)    (None, 56, 56, 256)  16640       conv2_block2_2_relu[0][0]        \n",
            "__________________________________________________________________________________________________\n",
            "conv2_block2_3_bn (BatchNormali (None, 56, 56, 256)  1024        conv2_block2_3_conv[0][0]        \n",
            "__________________________________________________________________________________________________\n",
            "conv2_block2_add (Add)          (None, 56, 56, 256)  0           conv2_block1_out[0][0]           \n",
            "                                                                 conv2_block2_3_bn[0][0]          \n",
            "__________________________________________________________________________________________________\n",
            "conv2_block2_out (Activation)   (None, 56, 56, 256)  0           conv2_block2_add[0][0]           \n",
            "__________________________________________________________________________________________________\n",
            "conv2_block3_1_conv (Conv2D)    (None, 56, 56, 64)   16448       conv2_block2_out[0][0]           \n",
            "__________________________________________________________________________________________________\n",
            "conv2_block3_1_bn (BatchNormali (None, 56, 56, 64)   256         conv2_block3_1_conv[0][0]        \n",
            "__________________________________________________________________________________________________\n",
            "conv2_block3_1_relu (Activation (None, 56, 56, 64)   0           conv2_block3_1_bn[0][0]          \n",
            "__________________________________________________________________________________________________\n",
            "conv2_block3_2_conv (Conv2D)    (None, 56, 56, 64)   36928       conv2_block3_1_relu[0][0]        \n",
            "__________________________________________________________________________________________________\n",
            "conv2_block3_2_bn (BatchNormali (None, 56, 56, 64)   256         conv2_block3_2_conv[0][0]        \n",
            "__________________________________________________________________________________________________\n",
            "conv2_block3_2_relu (Activation (None, 56, 56, 64)   0           conv2_block3_2_bn[0][0]          \n",
            "__________________________________________________________________________________________________\n",
            "conv2_block3_3_conv (Conv2D)    (None, 56, 56, 256)  16640       conv2_block3_2_relu[0][0]        \n",
            "__________________________________________________________________________________________________\n",
            "conv2_block3_3_bn (BatchNormali (None, 56, 56, 256)  1024        conv2_block3_3_conv[0][0]        \n",
            "__________________________________________________________________________________________________\n",
            "conv2_block3_add (Add)          (None, 56, 56, 256)  0           conv2_block2_out[0][0]           \n",
            "                                                                 conv2_block3_3_bn[0][0]          \n",
            "__________________________________________________________________________________________________\n",
            "conv2_block3_out (Activation)   (None, 56, 56, 256)  0           conv2_block3_add[0][0]           \n",
            "__________________________________________________________________________________________________\n",
            "conv3_block1_1_conv (Conv2D)    (None, 28, 28, 128)  32896       conv2_block3_out[0][0]           \n",
            "__________________________________________________________________________________________________\n",
            "conv3_block1_1_bn (BatchNormali (None, 28, 28, 128)  512         conv3_block1_1_conv[0][0]        \n",
            "__________________________________________________________________________________________________\n",
            "conv3_block1_1_relu (Activation (None, 28, 28, 128)  0           conv3_block1_1_bn[0][0]          \n",
            "__________________________________________________________________________________________________\n",
            "conv3_block1_2_conv (Conv2D)    (None, 28, 28, 128)  147584      conv3_block1_1_relu[0][0]        \n",
            "__________________________________________________________________________________________________\n",
            "conv3_block1_2_bn (BatchNormali (None, 28, 28, 128)  512         conv3_block1_2_conv[0][0]        \n",
            "__________________________________________________________________________________________________\n",
            "conv3_block1_2_relu (Activation (None, 28, 28, 128)  0           conv3_block1_2_bn[0][0]          \n",
            "__________________________________________________________________________________________________\n",
            "conv3_block1_0_conv (Conv2D)    (None, 28, 28, 512)  131584      conv2_block3_out[0][0]           \n",
            "__________________________________________________________________________________________________\n",
            "conv3_block1_3_conv (Conv2D)    (None, 28, 28, 512)  66048       conv3_block1_2_relu[0][0]        \n",
            "__________________________________________________________________________________________________\n",
            "conv3_block1_0_bn (BatchNormali (None, 28, 28, 512)  2048        conv3_block1_0_conv[0][0]        \n",
            "__________________________________________________________________________________________________\n",
            "conv3_block1_3_bn (BatchNormali (None, 28, 28, 512)  2048        conv3_block1_3_conv[0][0]        \n",
            "__________________________________________________________________________________________________\n",
            "conv3_block1_add (Add)          (None, 28, 28, 512)  0           conv3_block1_0_bn[0][0]          \n",
            "                                                                 conv3_block1_3_bn[0][0]          \n",
            "__________________________________________________________________________________________________\n",
            "conv3_block1_out (Activation)   (None, 28, 28, 512)  0           conv3_block1_add[0][0]           \n",
            "__________________________________________________________________________________________________\n",
            "conv3_block2_1_conv (Conv2D)    (None, 28, 28, 128)  65664       conv3_block1_out[0][0]           \n",
            "__________________________________________________________________________________________________\n",
            "conv3_block2_1_bn (BatchNormali (None, 28, 28, 128)  512         conv3_block2_1_conv[0][0]        \n",
            "__________________________________________________________________________________________________\n",
            "conv3_block2_1_relu (Activation (None, 28, 28, 128)  0           conv3_block2_1_bn[0][0]          \n",
            "__________________________________________________________________________________________________\n",
            "conv3_block2_2_conv (Conv2D)    (None, 28, 28, 128)  147584      conv3_block2_1_relu[0][0]        \n",
            "__________________________________________________________________________________________________\n",
            "conv3_block2_2_bn (BatchNormali (None, 28, 28, 128)  512         conv3_block2_2_conv[0][0]        \n",
            "__________________________________________________________________________________________________\n",
            "conv3_block2_2_relu (Activation (None, 28, 28, 128)  0           conv3_block2_2_bn[0][0]          \n",
            "__________________________________________________________________________________________________\n",
            "conv3_block2_3_conv (Conv2D)    (None, 28, 28, 512)  66048       conv3_block2_2_relu[0][0]        \n",
            "__________________________________________________________________________________________________\n",
            "conv3_block2_3_bn (BatchNormali (None, 28, 28, 512)  2048        conv3_block2_3_conv[0][0]        \n",
            "__________________________________________________________________________________________________\n",
            "conv3_block2_add (Add)          (None, 28, 28, 512)  0           conv3_block1_out[0][0]           \n",
            "                                                                 conv3_block2_3_bn[0][0]          \n",
            "__________________________________________________________________________________________________\n",
            "conv3_block2_out (Activation)   (None, 28, 28, 512)  0           conv3_block2_add[0][0]           \n",
            "__________________________________________________________________________________________________\n",
            "conv3_block3_1_conv (Conv2D)    (None, 28, 28, 128)  65664       conv3_block2_out[0][0]           \n",
            "__________________________________________________________________________________________________\n",
            "conv3_block3_1_bn (BatchNormali (None, 28, 28, 128)  512         conv3_block3_1_conv[0][0]        \n",
            "__________________________________________________________________________________________________\n",
            "conv3_block3_1_relu (Activation (None, 28, 28, 128)  0           conv3_block3_1_bn[0][0]          \n",
            "__________________________________________________________________________________________________\n",
            "conv3_block3_2_conv (Conv2D)    (None, 28, 28, 128)  147584      conv3_block3_1_relu[0][0]        \n",
            "__________________________________________________________________________________________________\n",
            "conv3_block3_2_bn (BatchNormali (None, 28, 28, 128)  512         conv3_block3_2_conv[0][0]        \n",
            "__________________________________________________________________________________________________\n",
            "conv3_block3_2_relu (Activation (None, 28, 28, 128)  0           conv3_block3_2_bn[0][0]          \n",
            "__________________________________________________________________________________________________\n",
            "conv3_block3_3_conv (Conv2D)    (None, 28, 28, 512)  66048       conv3_block3_2_relu[0][0]        \n",
            "__________________________________________________________________________________________________\n",
            "conv3_block3_3_bn (BatchNormali (None, 28, 28, 512)  2048        conv3_block3_3_conv[0][0]        \n",
            "__________________________________________________________________________________________________\n",
            "conv3_block3_add (Add)          (None, 28, 28, 512)  0           conv3_block2_out[0][0]           \n",
            "                                                                 conv3_block3_3_bn[0][0]          \n",
            "__________________________________________________________________________________________________\n",
            "conv3_block3_out (Activation)   (None, 28, 28, 512)  0           conv3_block3_add[0][0]           \n",
            "__________________________________________________________________________________________________\n",
            "conv3_block4_1_conv (Conv2D)    (None, 28, 28, 128)  65664       conv3_block3_out[0][0]           \n",
            "__________________________________________________________________________________________________\n",
            "conv3_block4_1_bn (BatchNormali (None, 28, 28, 128)  512         conv3_block4_1_conv[0][0]        \n",
            "__________________________________________________________________________________________________\n",
            "conv3_block4_1_relu (Activation (None, 28, 28, 128)  0           conv3_block4_1_bn[0][0]          \n",
            "__________________________________________________________________________________________________\n",
            "conv3_block4_2_conv (Conv2D)    (None, 28, 28, 128)  147584      conv3_block4_1_relu[0][0]        \n",
            "__________________________________________________________________________________________________\n",
            "conv3_block4_2_bn (BatchNormali (None, 28, 28, 128)  512         conv3_block4_2_conv[0][0]        \n",
            "__________________________________________________________________________________________________\n",
            "conv3_block4_2_relu (Activation (None, 28, 28, 128)  0           conv3_block4_2_bn[0][0]          \n",
            "__________________________________________________________________________________________________\n",
            "conv3_block4_3_conv (Conv2D)    (None, 28, 28, 512)  66048       conv3_block4_2_relu[0][0]        \n",
            "__________________________________________________________________________________________________\n",
            "conv3_block4_3_bn (BatchNormali (None, 28, 28, 512)  2048        conv3_block4_3_conv[0][0]        \n",
            "__________________________________________________________________________________________________\n",
            "conv3_block4_add (Add)          (None, 28, 28, 512)  0           conv3_block3_out[0][0]           \n",
            "                                                                 conv3_block4_3_bn[0][0]          \n",
            "__________________________________________________________________________________________________\n",
            "conv3_block4_out (Activation)   (None, 28, 28, 512)  0           conv3_block4_add[0][0]           \n",
            "__________________________________________________________________________________________________\n",
            "conv4_block1_1_conv (Conv2D)    (None, 14, 14, 256)  131328      conv3_block4_out[0][0]           \n",
            "__________________________________________________________________________________________________\n",
            "conv4_block1_1_bn (BatchNormali (None, 14, 14, 256)  1024        conv4_block1_1_conv[0][0]        \n",
            "__________________________________________________________________________________________________\n",
            "conv4_block1_1_relu (Activation (None, 14, 14, 256)  0           conv4_block1_1_bn[0][0]          \n",
            "__________________________________________________________________________________________________\n",
            "conv4_block1_2_conv (Conv2D)    (None, 14, 14, 256)  590080      conv4_block1_1_relu[0][0]        \n",
            "__________________________________________________________________________________________________\n",
            "conv4_block1_2_bn (BatchNormali (None, 14, 14, 256)  1024        conv4_block1_2_conv[0][0]        \n",
            "__________________________________________________________________________________________________\n",
            "conv4_block1_2_relu (Activation (None, 14, 14, 256)  0           conv4_block1_2_bn[0][0]          \n",
            "__________________________________________________________________________________________________\n",
            "conv4_block1_0_conv (Conv2D)    (None, 14, 14, 1024) 525312      conv3_block4_out[0][0]           \n",
            "__________________________________________________________________________________________________\n",
            "conv4_block1_3_conv (Conv2D)    (None, 14, 14, 1024) 263168      conv4_block1_2_relu[0][0]        \n",
            "__________________________________________________________________________________________________\n",
            "conv4_block1_0_bn (BatchNormali (None, 14, 14, 1024) 4096        conv4_block1_0_conv[0][0]        \n",
            "__________________________________________________________________________________________________\n",
            "conv4_block1_3_bn (BatchNormali (None, 14, 14, 1024) 4096        conv4_block1_3_conv[0][0]        \n",
            "__________________________________________________________________________________________________\n",
            "conv4_block1_add (Add)          (None, 14, 14, 1024) 0           conv4_block1_0_bn[0][0]          \n",
            "                                                                 conv4_block1_3_bn[0][0]          \n",
            "__________________________________________________________________________________________________\n",
            "conv4_block1_out (Activation)   (None, 14, 14, 1024) 0           conv4_block1_add[0][0]           \n",
            "__________________________________________________________________________________________________\n",
            "conv4_block2_1_conv (Conv2D)    (None, 14, 14, 256)  262400      conv4_block1_out[0][0]           \n",
            "__________________________________________________________________________________________________\n",
            "conv4_block2_1_bn (BatchNormali (None, 14, 14, 256)  1024        conv4_block2_1_conv[0][0]        \n",
            "__________________________________________________________________________________________________\n",
            "conv4_block2_1_relu (Activation (None, 14, 14, 256)  0           conv4_block2_1_bn[0][0]          \n",
            "__________________________________________________________________________________________________\n",
            "conv4_block2_2_conv (Conv2D)    (None, 14, 14, 256)  590080      conv4_block2_1_relu[0][0]        \n",
            "__________________________________________________________________________________________________\n",
            "conv4_block2_2_bn (BatchNormali (None, 14, 14, 256)  1024        conv4_block2_2_conv[0][0]        \n",
            "__________________________________________________________________________________________________\n",
            "conv4_block2_2_relu (Activation (None, 14, 14, 256)  0           conv4_block2_2_bn[0][0]          \n",
            "__________________________________________________________________________________________________\n",
            "conv4_block2_3_conv (Conv2D)    (None, 14, 14, 1024) 263168      conv4_block2_2_relu[0][0]        \n",
            "__________________________________________________________________________________________________\n",
            "conv4_block2_3_bn (BatchNormali (None, 14, 14, 1024) 4096        conv4_block2_3_conv[0][0]        \n",
            "__________________________________________________________________________________________________\n",
            "conv4_block2_add (Add)          (None, 14, 14, 1024) 0           conv4_block1_out[0][0]           \n",
            "                                                                 conv4_block2_3_bn[0][0]          \n",
            "__________________________________________________________________________________________________\n",
            "conv4_block2_out (Activation)   (None, 14, 14, 1024) 0           conv4_block2_add[0][0]           \n",
            "__________________________________________________________________________________________________\n",
            "conv4_block3_1_conv (Conv2D)    (None, 14, 14, 256)  262400      conv4_block2_out[0][0]           \n",
            "__________________________________________________________________________________________________\n",
            "conv4_block3_1_bn (BatchNormali (None, 14, 14, 256)  1024        conv4_block3_1_conv[0][0]        \n",
            "__________________________________________________________________________________________________\n",
            "conv4_block3_1_relu (Activation (None, 14, 14, 256)  0           conv4_block3_1_bn[0][0]          \n",
            "__________________________________________________________________________________________________\n",
            "conv4_block3_2_conv (Conv2D)    (None, 14, 14, 256)  590080      conv4_block3_1_relu[0][0]        \n",
            "__________________________________________________________________________________________________\n",
            "conv4_block3_2_bn (BatchNormali (None, 14, 14, 256)  1024        conv4_block3_2_conv[0][0]        \n",
            "__________________________________________________________________________________________________\n",
            "conv4_block3_2_relu (Activation (None, 14, 14, 256)  0           conv4_block3_2_bn[0][0]          \n",
            "__________________________________________________________________________________________________\n",
            "conv4_block3_3_conv (Conv2D)    (None, 14, 14, 1024) 263168      conv4_block3_2_relu[0][0]        \n",
            "__________________________________________________________________________________________________\n",
            "conv4_block3_3_bn (BatchNormali (None, 14, 14, 1024) 4096        conv4_block3_3_conv[0][0]        \n",
            "__________________________________________________________________________________________________\n",
            "conv4_block3_add (Add)          (None, 14, 14, 1024) 0           conv4_block2_out[0][0]           \n",
            "                                                                 conv4_block3_3_bn[0][0]          \n",
            "__________________________________________________________________________________________________\n",
            "conv4_block3_out (Activation)   (None, 14, 14, 1024) 0           conv4_block3_add[0][0]           \n",
            "__________________________________________________________________________________________________\n",
            "conv4_block4_1_conv (Conv2D)    (None, 14, 14, 256)  262400      conv4_block3_out[0][0]           \n",
            "__________________________________________________________________________________________________\n",
            "conv4_block4_1_bn (BatchNormali (None, 14, 14, 256)  1024        conv4_block4_1_conv[0][0]        \n",
            "__________________________________________________________________________________________________\n",
            "conv4_block4_1_relu (Activation (None, 14, 14, 256)  0           conv4_block4_1_bn[0][0]          \n",
            "__________________________________________________________________________________________________\n",
            "conv4_block4_2_conv (Conv2D)    (None, 14, 14, 256)  590080      conv4_block4_1_relu[0][0]        \n",
            "__________________________________________________________________________________________________\n",
            "conv4_block4_2_bn (BatchNormali (None, 14, 14, 256)  1024        conv4_block4_2_conv[0][0]        \n",
            "__________________________________________________________________________________________________\n",
            "conv4_block4_2_relu (Activation (None, 14, 14, 256)  0           conv4_block4_2_bn[0][0]          \n",
            "__________________________________________________________________________________________________\n",
            "conv4_block4_3_conv (Conv2D)    (None, 14, 14, 1024) 263168      conv4_block4_2_relu[0][0]        \n",
            "__________________________________________________________________________________________________\n",
            "conv4_block4_3_bn (BatchNormali (None, 14, 14, 1024) 4096        conv4_block4_3_conv[0][0]        \n",
            "__________________________________________________________________________________________________\n",
            "conv4_block4_add (Add)          (None, 14, 14, 1024) 0           conv4_block3_out[0][0]           \n",
            "                                                                 conv4_block4_3_bn[0][0]          \n",
            "__________________________________________________________________________________________________\n",
            "conv4_block4_out (Activation)   (None, 14, 14, 1024) 0           conv4_block4_add[0][0]           \n",
            "__________________________________________________________________________________________________\n",
            "conv4_block5_1_conv (Conv2D)    (None, 14, 14, 256)  262400      conv4_block4_out[0][0]           \n",
            "__________________________________________________________________________________________________\n",
            "conv4_block5_1_bn (BatchNormali (None, 14, 14, 256)  1024        conv4_block5_1_conv[0][0]        \n",
            "__________________________________________________________________________________________________\n",
            "conv4_block5_1_relu (Activation (None, 14, 14, 256)  0           conv4_block5_1_bn[0][0]          \n",
            "__________________________________________________________________________________________________\n",
            "conv4_block5_2_conv (Conv2D)    (None, 14, 14, 256)  590080      conv4_block5_1_relu[0][0]        \n",
            "__________________________________________________________________________________________________\n",
            "conv4_block5_2_bn (BatchNormali (None, 14, 14, 256)  1024        conv4_block5_2_conv[0][0]        \n",
            "__________________________________________________________________________________________________\n",
            "conv4_block5_2_relu (Activation (None, 14, 14, 256)  0           conv4_block5_2_bn[0][0]          \n",
            "__________________________________________________________________________________________________\n",
            "conv4_block5_3_conv (Conv2D)    (None, 14, 14, 1024) 263168      conv4_block5_2_relu[0][0]        \n",
            "__________________________________________________________________________________________________\n",
            "conv4_block5_3_bn (BatchNormali (None, 14, 14, 1024) 4096        conv4_block5_3_conv[0][0]        \n",
            "__________________________________________________________________________________________________\n",
            "conv4_block5_add (Add)          (None, 14, 14, 1024) 0           conv4_block4_out[0][0]           \n",
            "                                                                 conv4_block5_3_bn[0][0]          \n",
            "__________________________________________________________________________________________________\n",
            "conv4_block5_out (Activation)   (None, 14, 14, 1024) 0           conv4_block5_add[0][0]           \n",
            "__________________________________________________________________________________________________\n",
            "conv4_block6_1_conv (Conv2D)    (None, 14, 14, 256)  262400      conv4_block5_out[0][0]           \n",
            "__________________________________________________________________________________________________\n",
            "conv4_block6_1_bn (BatchNormali (None, 14, 14, 256)  1024        conv4_block6_1_conv[0][0]        \n",
            "__________________________________________________________________________________________________\n",
            "conv4_block6_1_relu (Activation (None, 14, 14, 256)  0           conv4_block6_1_bn[0][0]          \n",
            "__________________________________________________________________________________________________\n",
            "conv4_block6_2_conv (Conv2D)    (None, 14, 14, 256)  590080      conv4_block6_1_relu[0][0]        \n",
            "__________________________________________________________________________________________________\n",
            "conv4_block6_2_bn (BatchNormali (None, 14, 14, 256)  1024        conv4_block6_2_conv[0][0]        \n",
            "__________________________________________________________________________________________________\n",
            "conv4_block6_2_relu (Activation (None, 14, 14, 256)  0           conv4_block6_2_bn[0][0]          \n",
            "__________________________________________________________________________________________________\n",
            "conv4_block6_3_conv (Conv2D)    (None, 14, 14, 1024) 263168      conv4_block6_2_relu[0][0]        \n",
            "__________________________________________________________________________________________________\n",
            "conv4_block6_3_bn (BatchNormali (None, 14, 14, 1024) 4096        conv4_block6_3_conv[0][0]        \n",
            "__________________________________________________________________________________________________\n",
            "conv4_block6_add (Add)          (None, 14, 14, 1024) 0           conv4_block5_out[0][0]           \n",
            "                                                                 conv4_block6_3_bn[0][0]          \n",
            "__________________________________________________________________________________________________\n",
            "conv4_block6_out (Activation)   (None, 14, 14, 1024) 0           conv4_block6_add[0][0]           \n",
            "__________________________________________________________________________________________________\n",
            "conv5_block1_1_conv (Conv2D)    (None, 7, 7, 512)    524800      conv4_block6_out[0][0]           \n",
            "__________________________________________________________________________________________________\n",
            "conv5_block1_1_bn (BatchNormali (None, 7, 7, 512)    2048        conv5_block1_1_conv[0][0]        \n",
            "__________________________________________________________________________________________________\n",
            "conv5_block1_1_relu (Activation (None, 7, 7, 512)    0           conv5_block1_1_bn[0][0]          \n",
            "__________________________________________________________________________________________________\n",
            "conv5_block1_2_conv (Conv2D)    (None, 7, 7, 512)    2359808     conv5_block1_1_relu[0][0]        \n",
            "__________________________________________________________________________________________________\n",
            "conv5_block1_2_bn (BatchNormali (None, 7, 7, 512)    2048        conv5_block1_2_conv[0][0]        \n",
            "__________________________________________________________________________________________________\n",
            "conv5_block1_2_relu (Activation (None, 7, 7, 512)    0           conv5_block1_2_bn[0][0]          \n",
            "__________________________________________________________________________________________________\n",
            "conv5_block1_0_conv (Conv2D)    (None, 7, 7, 2048)   2099200     conv4_block6_out[0][0]           \n",
            "__________________________________________________________________________________________________\n",
            "conv5_block1_3_conv (Conv2D)    (None, 7, 7, 2048)   1050624     conv5_block1_2_relu[0][0]        \n",
            "__________________________________________________________________________________________________\n",
            "conv5_block1_0_bn (BatchNormali (None, 7, 7, 2048)   8192        conv5_block1_0_conv[0][0]        \n",
            "__________________________________________________________________________________________________\n",
            "conv5_block1_3_bn (BatchNormali (None, 7, 7, 2048)   8192        conv5_block1_3_conv[0][0]        \n",
            "__________________________________________________________________________________________________\n",
            "conv5_block1_add (Add)          (None, 7, 7, 2048)   0           conv5_block1_0_bn[0][0]          \n",
            "                                                                 conv5_block1_3_bn[0][0]          \n",
            "__________________________________________________________________________________________________\n",
            "conv5_block1_out (Activation)   (None, 7, 7, 2048)   0           conv5_block1_add[0][0]           \n",
            "__________________________________________________________________________________________________\n",
            "conv5_block2_1_conv (Conv2D)    (None, 7, 7, 512)    1049088     conv5_block1_out[0][0]           \n",
            "__________________________________________________________________________________________________\n",
            "conv5_block2_1_bn (BatchNormali (None, 7, 7, 512)    2048        conv5_block2_1_conv[0][0]        \n",
            "__________________________________________________________________________________________________\n",
            "conv5_block2_1_relu (Activation (None, 7, 7, 512)    0           conv5_block2_1_bn[0][0]          \n",
            "__________________________________________________________________________________________________\n",
            "conv5_block2_2_conv (Conv2D)    (None, 7, 7, 512)    2359808     conv5_block2_1_relu[0][0]        \n",
            "__________________________________________________________________________________________________\n",
            "conv5_block2_2_bn (BatchNormali (None, 7, 7, 512)    2048        conv5_block2_2_conv[0][0]        \n",
            "__________________________________________________________________________________________________\n",
            "conv5_block2_2_relu (Activation (None, 7, 7, 512)    0           conv5_block2_2_bn[0][0]          \n",
            "__________________________________________________________________________________________________\n",
            "conv5_block2_3_conv (Conv2D)    (None, 7, 7, 2048)   1050624     conv5_block2_2_relu[0][0]        \n",
            "__________________________________________________________________________________________________\n",
            "conv5_block2_3_bn (BatchNormali (None, 7, 7, 2048)   8192        conv5_block2_3_conv[0][0]        \n",
            "__________________________________________________________________________________________________\n",
            "conv5_block2_add (Add)          (None, 7, 7, 2048)   0           conv5_block1_out[0][0]           \n",
            "                                                                 conv5_block2_3_bn[0][0]          \n",
            "__________________________________________________________________________________________________\n",
            "conv5_block2_out (Activation)   (None, 7, 7, 2048)   0           conv5_block2_add[0][0]           \n",
            "__________________________________________________________________________________________________\n",
            "conv5_block3_1_conv (Conv2D)    (None, 7, 7, 512)    1049088     conv5_block2_out[0][0]           \n",
            "__________________________________________________________________________________________________\n",
            "conv5_block3_1_bn (BatchNormali (None, 7, 7, 512)    2048        conv5_block3_1_conv[0][0]        \n",
            "__________________________________________________________________________________________________\n",
            "conv5_block3_1_relu (Activation (None, 7, 7, 512)    0           conv5_block3_1_bn[0][0]          \n",
            "__________________________________________________________________________________________________\n",
            "conv5_block3_2_conv (Conv2D)    (None, 7, 7, 512)    2359808     conv5_block3_1_relu[0][0]        \n",
            "__________________________________________________________________________________________________\n",
            "conv5_block3_2_bn (BatchNormali (None, 7, 7, 512)    2048        conv5_block3_2_conv[0][0]        \n",
            "__________________________________________________________________________________________________\n",
            "conv5_block3_2_relu (Activation (None, 7, 7, 512)    0           conv5_block3_2_bn[0][0]          \n",
            "__________________________________________________________________________________________________\n",
            "conv5_block3_3_conv (Conv2D)    (None, 7, 7, 2048)   1050624     conv5_block3_2_relu[0][0]        \n",
            "__________________________________________________________________________________________________\n",
            "conv5_block3_3_bn (BatchNormali (None, 7, 7, 2048)   8192        conv5_block3_3_conv[0][0]        \n",
            "__________________________________________________________________________________________________\n",
            "conv5_block3_add (Add)          (None, 7, 7, 2048)   0           conv5_block2_out[0][0]           \n",
            "                                                                 conv5_block3_3_bn[0][0]          \n",
            "__________________________________________________________________________________________________\n",
            "conv5_block3_out (Activation)   (None, 7, 7, 2048)   0           conv5_block3_add[0][0]           \n",
            "__________________________________________________________________________________________________\n",
            "flatten_2 (Flatten)             (None, 100352)       0           conv5_block3_out[0][0]           \n",
            "__________________________________________________________________________________________________\n",
            "dense_2 (Dense)                 (None, 3)            301059      flatten_2[0][0]                  \n",
            "==================================================================================================\n",
            "Total params: 23,888,771\n",
            "Trainable params: 301,059\n",
            "Non-trainable params: 23,587,712\n",
            "__________________________________________________________________________________________________\n"
          ]
        }
      ]
    },
    {
      "cell_type": "code",
      "metadata": {
        "id": "vwbQXg58atCu"
      },
      "source": [
        "model.compile(optimizer='adam', loss='categorical_crossentropy', metrics=['accuracy'])"
      ],
      "execution_count": 51,
      "outputs": []
    },
    {
      "cell_type": "code",
      "metadata": {
        "id": "tHgZ-1uTbIqp"
      },
      "source": [
        "train_gen = ImageDataGenerator(rescale = 1./255,\n",
        "                               shear_range = 0.2,\n",
        "                               zoom_range = 0.2,\n",
        "                               horizontal_flip = True)\n",
        "\n",
        "test_gen = ImageDataGenerator(rescale = 1./255)"
      ],
      "execution_count": 52,
      "outputs": []
    },
    {
      "cell_type": "code",
      "metadata": {
        "colab": {
          "base_uri": "https://localhost:8080/"
        },
        "id": "tqMHCPieby_5",
        "outputId": "767b5d75-cb56-4083-f6ab-f9a6c50332e7"
      },
      "source": [
        "training_set = train_gen.flow_from_directory(train_path,\n",
        "                                             target_size=(224,224),\n",
        "                                             batch_size=32,\n",
        "                                             class_mode='categorical')"
      ],
      "execution_count": 53,
      "outputs": [
        {
          "output_type": "stream",
          "name": "stdout",
          "text": [
            "Found 64 images belonging to 3 classes.\n"
          ]
        }
      ]
    },
    {
      "cell_type": "code",
      "metadata": {
        "colab": {
          "base_uri": "https://localhost:8080/"
        },
        "id": "H-WolI4NcaQE",
        "outputId": "3c186bd7-890c-4d55-9304-e89d7645d9d6"
      },
      "source": [
        "testing_set = test_gen.flow_from_directory(test_path,\n",
        "                                           target_size=(224,224),\n",
        "                                           batch_size=32,\n",
        "                                           class_mode='categorical')"
      ],
      "execution_count": 54,
      "outputs": [
        {
          "output_type": "stream",
          "name": "stdout",
          "text": [
            "Found 58 images belonging to 3 classes.\n"
          ]
        }
      ]
    },
    {
      "cell_type": "code",
      "metadata": {
        "id": "ixMbSdppecNN"
      },
      "source": [
        "#from tensorflow.keras.callbacks import EarlyStopping,ReduceLROnPlateau"
      ],
      "execution_count": 55,
      "outputs": []
    },
    {
      "cell_type": "code",
      "metadata": {
        "id": "H0QKMgDye6g4"
      },
      "source": [
        "#early_stop=EarlyStopping(monitor='val_accuracy',patience=10)\n",
        "#reduce_lr=ReduceLROnPlateau(monitor='val_accuracy',factor=0.5,patience=10,min_lr=0.0001)"
      ],
      "execution_count": 56,
      "outputs": []
    },
    {
      "cell_type": "code",
      "metadata": {
        "colab": {
          "base_uri": "https://localhost:8080/"
        },
        "id": "Kc3uurtTcvw0",
        "outputId": "3f13ae71-d6b0-440f-cb5d-1abdc3d9000e"
      },
      "source": [
        "r=model.fit_generator(training_set,\n",
        "                      steps_per_epoch=len(training_set),\n",
        "                      epochs=50,\n",
        "                      validation_data=testing_set,\n",
        "                      validation_steps=len(testing_set))\n",
        "                      "
      ],
      "execution_count": 57,
      "outputs": [
        {
          "output_type": "stream",
          "name": "stderr",
          "text": [
            "/usr/local/lib/python3.7/dist-packages/keras/engine/training.py:1972: UserWarning: `Model.fit_generator` is deprecated and will be removed in a future version. Please use `Model.fit`, which supports generators.\n",
            "  warnings.warn('`Model.fit_generator` is deprecated and '\n"
          ]
        },
        {
          "output_type": "stream",
          "name": "stdout",
          "text": [
            "Epoch 1/50\n",
            "2/2 [==============================] - 7s 2s/step - loss: 6.3396 - accuracy: 0.3438 - val_loss: 8.2081 - val_accuracy: 0.3276\n",
            "Epoch 2/50\n",
            "2/2 [==============================] - 2s 983ms/step - loss: 7.2056 - accuracy: 0.3750 - val_loss: 7.6963 - val_accuracy: 0.1552\n",
            "Epoch 3/50\n",
            "2/2 [==============================] - 2s 950ms/step - loss: 7.1246 - accuracy: 0.3906 - val_loss: 6.5866 - val_accuracy: 0.5172\n",
            "Epoch 4/50\n",
            "2/2 [==============================] - 2s 933ms/step - loss: 6.2360 - accuracy: 0.3125 - val_loss: 1.2041 - val_accuracy: 0.4310\n",
            "Epoch 5/50\n",
            "2/2 [==============================] - 2s 930ms/step - loss: 1.9628 - accuracy: 0.4844 - val_loss: 6.2371 - val_accuracy: 0.3621\n",
            "Epoch 6/50\n",
            "2/2 [==============================] - 2s 944ms/step - loss: 4.1496 - accuracy: 0.5312 - val_loss: 7.1997 - val_accuracy: 0.2931\n",
            "Epoch 7/50\n",
            "2/2 [==============================] - 2s 926ms/step - loss: 3.7982 - accuracy: 0.5625 - val_loss: 4.5507 - val_accuracy: 0.3448\n",
            "Epoch 8/50\n",
            "2/2 [==============================] - 2s 935ms/step - loss: 1.7634 - accuracy: 0.5469 - val_loss: 1.4768 - val_accuracy: 0.5517\n",
            "Epoch 9/50\n",
            "2/2 [==============================] - 2s 942ms/step - loss: 1.8517 - accuracy: 0.4844 - val_loss: 2.6924 - val_accuracy: 0.5172\n",
            "Epoch 10/50\n",
            "2/2 [==============================] - 2s 955ms/step - loss: 1.9315 - accuracy: 0.5469 - val_loss: 1.6199 - val_accuracy: 0.3276\n",
            "Epoch 11/50\n",
            "2/2 [==============================] - 2s 971ms/step - loss: 1.0598 - accuracy: 0.5625 - val_loss: 3.0558 - val_accuracy: 0.3276\n",
            "Epoch 12/50\n",
            "2/2 [==============================] - 2s 930ms/step - loss: 1.9062 - accuracy: 0.4375 - val_loss: 1.6830 - val_accuracy: 0.4483\n",
            "Epoch 13/50\n",
            "2/2 [==============================] - 2s 930ms/step - loss: 0.7925 - accuracy: 0.6719 - val_loss: 1.5782 - val_accuracy: 0.6034\n",
            "Epoch 14/50\n",
            "2/2 [==============================] - 2s 927ms/step - loss: 1.3467 - accuracy: 0.6406 - val_loss: 1.5420 - val_accuracy: 0.6034\n",
            "Epoch 15/50\n",
            "2/2 [==============================] - 2s 931ms/step - loss: 0.8760 - accuracy: 0.6875 - val_loss: 1.3963 - val_accuracy: 0.5345\n",
            "Epoch 16/50\n",
            "2/2 [==============================] - 2s 949ms/step - loss: 0.9721 - accuracy: 0.6562 - val_loss: 2.0782 - val_accuracy: 0.3966\n",
            "Epoch 17/50\n",
            "2/2 [==============================] - 2s 928ms/step - loss: 1.1056 - accuracy: 0.5625 - val_loss: 1.0813 - val_accuracy: 0.6034\n",
            "Epoch 18/50\n",
            "2/2 [==============================] - 2s 928ms/step - loss: 0.6603 - accuracy: 0.6719 - val_loss: 1.2824 - val_accuracy: 0.6034\n",
            "Epoch 19/50\n",
            "2/2 [==============================] - 2s 923ms/step - loss: 0.8326 - accuracy: 0.6250 - val_loss: 1.0782 - val_accuracy: 0.5862\n",
            "Epoch 20/50\n",
            "2/2 [==============================] - 2s 937ms/step - loss: 0.6056 - accuracy: 0.6875 - val_loss: 1.6200 - val_accuracy: 0.3966\n",
            "Epoch 21/50\n",
            "2/2 [==============================] - 2s 934ms/step - loss: 0.6221 - accuracy: 0.7031 - val_loss: 0.9871 - val_accuracy: 0.5690\n",
            "Epoch 22/50\n",
            "2/2 [==============================] - 2s 931ms/step - loss: 0.4832 - accuracy: 0.7500 - val_loss: 1.0904 - val_accuracy: 0.6552\n",
            "Epoch 23/50\n",
            "2/2 [==============================] - 2s 932ms/step - loss: 0.6531 - accuracy: 0.6562 - val_loss: 0.9396 - val_accuracy: 0.6379\n",
            "Epoch 24/50\n",
            "2/2 [==============================] - 2s 914ms/step - loss: 0.3958 - accuracy: 0.8438 - val_loss: 1.1759 - val_accuracy: 0.5517\n",
            "Epoch 25/50\n",
            "2/2 [==============================] - 2s 917ms/step - loss: 0.4008 - accuracy: 0.8594 - val_loss: 0.9633 - val_accuracy: 0.6552\n",
            "Epoch 26/50\n",
            "2/2 [==============================] - 2s 927ms/step - loss: 0.3306 - accuracy: 0.8750 - val_loss: 0.8730 - val_accuracy: 0.6724\n",
            "Epoch 27/50\n",
            "2/2 [==============================] - 2s 928ms/step - loss: 0.3729 - accuracy: 0.8438 - val_loss: 0.8584 - val_accuracy: 0.6724\n",
            "Epoch 28/50\n",
            "2/2 [==============================] - 2s 916ms/step - loss: 0.3444 - accuracy: 0.8906 - val_loss: 1.0192 - val_accuracy: 0.6207\n",
            "Epoch 29/50\n",
            "2/2 [==============================] - 2s 928ms/step - loss: 0.3559 - accuracy: 0.8906 - val_loss: 0.8600 - val_accuracy: 0.6897\n",
            "Epoch 30/50\n",
            "2/2 [==============================] - 2s 924ms/step - loss: 0.3261 - accuracy: 0.8906 - val_loss: 0.8349 - val_accuracy: 0.7069\n",
            "Epoch 31/50\n",
            "2/2 [==============================] - 2s 915ms/step - loss: 0.3824 - accuracy: 0.8594 - val_loss: 0.9419 - val_accuracy: 0.6379\n",
            "Epoch 32/50\n",
            "2/2 [==============================] - 2s 931ms/step - loss: 0.3357 - accuracy: 0.8906 - val_loss: 0.8630 - val_accuracy: 0.7069\n",
            "Epoch 33/50\n",
            "2/2 [==============================] - 2s 926ms/step - loss: 0.2822 - accuracy: 0.9062 - val_loss: 0.8329 - val_accuracy: 0.7069\n",
            "Epoch 34/50\n",
            "2/2 [==============================] - 2s 937ms/step - loss: 0.2872 - accuracy: 0.8906 - val_loss: 0.8886 - val_accuracy: 0.6724\n",
            "Epoch 35/50\n",
            "2/2 [==============================] - 2s 939ms/step - loss: 0.2983 - accuracy: 0.9375 - val_loss: 0.8302 - val_accuracy: 0.7241\n",
            "Epoch 36/50\n",
            "2/2 [==============================] - 2s 946ms/step - loss: 0.2733 - accuracy: 0.9219 - val_loss: 0.8290 - val_accuracy: 0.7586\n",
            "Epoch 37/50\n",
            "2/2 [==============================] - 2s 945ms/step - loss: 0.2709 - accuracy: 0.9375 - val_loss: 0.9265 - val_accuracy: 0.6897\n",
            "Epoch 38/50\n",
            "2/2 [==============================] - 2s 935ms/step - loss: 0.2641 - accuracy: 0.9219 - val_loss: 0.8411 - val_accuracy: 0.7241\n",
            "Epoch 39/50\n",
            "2/2 [==============================] - 2s 919ms/step - loss: 0.2250 - accuracy: 0.9844 - val_loss: 0.8539 - val_accuracy: 0.7069\n",
            "Epoch 40/50\n",
            "2/2 [==============================] - 2s 932ms/step - loss: 0.2396 - accuracy: 0.9531 - val_loss: 0.8385 - val_accuracy: 0.7759\n",
            "Epoch 41/50\n",
            "2/2 [==============================] - 2s 935ms/step - loss: 0.2550 - accuracy: 0.9375 - val_loss: 0.8830 - val_accuracy: 0.6724\n",
            "Epoch 42/50\n",
            "2/2 [==============================] - 2s 956ms/step - loss: 0.2611 - accuracy: 0.9219 - val_loss: 0.8445 - val_accuracy: 0.7759\n",
            "Epoch 43/50\n",
            "2/2 [==============================] - 2s 934ms/step - loss: 0.2572 - accuracy: 0.9531 - val_loss: 0.8602 - val_accuracy: 0.7069\n",
            "Epoch 44/50\n",
            "2/2 [==============================] - 2s 936ms/step - loss: 0.2424 - accuracy: 0.9219 - val_loss: 0.9067 - val_accuracy: 0.6897\n",
            "Epoch 45/50\n",
            "2/2 [==============================] - 2s 927ms/step - loss: 0.2235 - accuracy: 0.9688 - val_loss: 0.8428 - val_accuracy: 0.7759\n",
            "Epoch 46/50\n",
            "2/2 [==============================] - 2s 939ms/step - loss: 0.2992 - accuracy: 0.8594 - val_loss: 0.8450 - val_accuracy: 0.7586\n",
            "Epoch 47/50\n",
            "2/2 [==============================] - 2s 935ms/step - loss: 0.2452 - accuracy: 0.8906 - val_loss: 1.1054 - val_accuracy: 0.6034\n",
            "Epoch 48/50\n",
            "2/2 [==============================] - 2s 938ms/step - loss: 0.2768 - accuracy: 0.8906 - val_loss: 0.8380 - val_accuracy: 0.7586\n",
            "Epoch 49/50\n",
            "2/2 [==============================] - 2s 925ms/step - loss: 0.1995 - accuracy: 0.9531 - val_loss: 0.8667 - val_accuracy: 0.7414\n",
            "Epoch 50/50\n",
            "2/2 [==============================] - 2s 934ms/step - loss: 0.2176 - accuracy: 0.9531 - val_loss: 0.9268 - val_accuracy: 0.6724\n"
          ]
        }
      ]
    },
    {
      "cell_type": "code",
      "metadata": {
        "id": "rW-Vq6BSeBsF"
      },
      "source": [
        "#r.history"
      ],
      "execution_count": 58,
      "outputs": []
    },
    {
      "cell_type": "code",
      "metadata": {
        "colab": {
          "base_uri": "https://localhost:8080/",
          "height": 530
        },
        "id": "12_JQ_u0lscV",
        "outputId": "807a92e5-c6db-4b9d-9cb5-ec782161af2c"
      },
      "source": [
        "# plot the loss\n",
        "plt.plot(r.history['loss'], label='train loss')\n",
        "plt.plot(r.history['val_loss'], label='val loss')\n",
        "plt.legend()\n",
        "plt.show()\n",
        "\n",
        "\n",
        "# plot the accuracy\n",
        "plt.plot(r.history['accuracy'], label='train acc')\n",
        "plt.plot(r.history['val_accuracy'], label='val acc')\n",
        "plt.legend()\n",
        "plt.show()\n"
      ],
      "execution_count": 59,
      "outputs": [
        {
          "output_type": "display_data",
          "data": {
            "image/png": "[encoded data removed]",
            "text/plain": [
              "<Figure size 432x288 with 1 Axes>"
            ]
          },
          "metadata": {
            "needs_background": "light"
          }
        },
        {
          "output_type": "display_data",
          "data": {
            "image/png": "[encoded data removed]",
            "text/plain": [
              "<Figure size 432x288 with 1 Axes>"
            ]
          },
          "metadata": {
            "needs_background": "light"
          }
        },
        {
          "output_type": "display_data",
          "data": {
            "text/plain": [
              "<Figure size 432x288 with 0 Axes>"
            ]
          },
          "metadata": {}
        }
      ]
    },
    {
      "cell_type": "code",
      "metadata": {
        "colab": {
          "base_uri": "https://localhost:8080/"
        },
        "id": "ZgO3p3Tvl7Ot",
        "outputId": "177a756e-e424-4a25-adeb-a8cc13b836c6"
      },
      "source": [
        "model.save('car_classification_resnet50.h5')"
      ],
      "execution_count": 60,
      "outputs": [
        {
          "output_type": "stream",
          "name": "stderr",
          "text": [
            "/usr/local/lib/python3.7/dist-packages/keras/utils/generic_utils.py:497: CustomMaskWarning: Custom mask layers require a config and must override get_config. When loading, the custom mask layer must be passed to the custom_objects argument.\n",
            "  category=CustomMaskWarning)\n"
          ]
        }
      ]
    },
    {
      "cell_type": "code",
      "metadata": {
        "id": "0RYKUs5kpXEw"
      },
      "source": [
        "ypred=model.predict(testing_set)"
      ],
      "execution_count": 61,
      "outputs": []
    },
    {
      "cell_type": "code",
      "metadata": {
        "colab": {
          "base_uri": "https://localhost:8080/"
        },
        "id": "6N24edeUpuUT",
        "outputId": "40f2031e-9963-4a7b-9410-8d96d15b49f7"
      },
      "source": [
        "ypred"
      ],
      "execution_count": 62,
      "outputs": [
        {
          "output_type": "execute_result",
          "data": {
            "text/plain": [
              "array([[7.8723915e-02, 3.5989216e-01, 5.6138390e-01],\n",
              "       [2.7799439e-01, 2.8262898e-02, 6.9374275e-01],\n",
              "       [2.8799815e-02, 2.8193146e-01, 6.8926871e-01],\n",
              "       [8.5077628e-02, 6.1749827e-02, 8.5317260e-01],\n",
              "       [1.7566659e-01, 4.6225286e-01, 3.6208048e-01],\n",
              "       [6.1067808e-02, 2.8090930e-01, 6.5802294e-01],\n",
              "       [1.4294474e-01, 2.7020365e-01, 5.8685166e-01],\n",
              "       [1.9023926e-03, 9.8511803e-01, 1.2979496e-02],\n",
              "       [4.0972564e-02, 3.2844761e-01, 6.3057977e-01],\n",
              "       [6.1285417e-03, 4.8215315e-01, 5.1171833e-01],\n",
              "       [2.1727845e-02, 8.0101341e-01, 1.7725874e-01],\n",
              "       [3.8950026e-01, 5.1597679e-01, 9.4522886e-02],\n",
              "       [5.1106941e-03, 1.8519502e-02, 9.7636980e-01],\n",
              "       [3.3642627e-02, 8.4969860e-01, 1.1665880e-01],\n",
              "       [5.1898330e-01, 1.8801995e-01, 2.9299682e-01],\n",
              "       [9.7474200e-01, 9.4597116e-03, 1.5798304e-02],\n",
              "       [3.8271535e-02, 8.7757760e-01, 8.4150903e-02],\n",
              "       [1.8965155e-02, 1.4999770e-01, 8.3103716e-01],\n",
              "       [3.8207800e-04, 9.8421115e-01, 1.5406645e-02],\n",
              "       [8.7702817e-01, 1.0652755e-01, 1.6444199e-02],\n",
              "       [8.8065410e-01, 5.4595582e-02, 6.4750403e-02],\n",
              "       [2.4015948e-02, 4.6194193e-01, 5.1404220e-01],\n",
              "       [4.4938203e-02, 7.9323426e-03, 9.4712943e-01],\n",
              "       [8.4533021e-02, 8.6685377e-01, 4.8613299e-02],\n",
              "       [4.3369852e-02, 6.0140741e-01, 3.5522270e-01],\n",
              "       [2.9741211e-02, 1.0392550e-01, 8.6633325e-01],\n",
              "       [2.6972160e-01, 3.6171913e-01, 3.6855921e-01],\n",
              "       [2.6512658e-02, 7.2003824e-01, 2.5344917e-01],\n",
              "       [1.4162914e-01, 1.3482910e-01, 7.2354174e-01],\n",
              "       [2.8291124e-01, 2.1368995e-01, 5.0339878e-01],\n",
              "       [1.8349120e-02, 1.3355700e-04, 9.8151726e-01],\n",
              "       [3.1976294e-02, 3.1979227e-01, 6.4823145e-01],\n",
              "       [3.9269436e-02, 1.7782703e-01, 7.8290355e-01],\n",
              "       [4.9372286e-01, 1.3648677e-01, 3.6979041e-01],\n",
              "       [2.4080119e-01, 3.7026426e-01, 3.8893455e-01],\n",
              "       [2.2033470e-02, 4.3979539e-03, 9.7356862e-01],\n",
              "       [8.2199099e-03, 8.8821405e-01, 1.0356597e-01],\n",
              "       [7.3699516e-01, 1.5200914e-01, 1.1099569e-01],\n",
              "       [8.4755093e-02, 5.9789068e-01, 3.1735426e-01],\n",
              "       [1.7541580e-02, 9.3154818e-01, 5.0910335e-02],\n",
              "       [4.9392565e-06, 5.3162384e-04, 9.9946350e-01],\n",
              "       [2.3811182e-02, 5.7343459e-01, 4.0275425e-01],\n",
              "       [1.5488964e-02, 1.8158477e-03, 9.8269516e-01],\n",
              "       [1.6708726e-05, 9.0045534e-05, 9.9989319e-01],\n",
              "       [8.0949776e-02, 2.8106818e-01, 6.3798207e-01],\n",
              "       [1.6523171e-02, 8.7793201e-01, 1.0554479e-01],\n",
              "       [6.2970543e-01, 7.7328989e-03, 3.6256161e-01],\n",
              "       [3.3081800e-02, 6.4396127e-03, 9.6047860e-01],\n",
              "       [1.3905577e-02, 9.8272794e-01, 3.3664817e-03],\n",
              "       [8.9692503e-01, 2.4834396e-02, 7.8240573e-02],\n",
              "       [7.2663002e-02, 6.9033980e-01, 2.3699720e-01],\n",
              "       [7.2027758e-02, 5.8708757e-02, 8.6926347e-01],\n",
              "       [2.8353050e-01, 2.9018065e-01, 4.2628884e-01],\n",
              "       [1.0780204e-02, 9.1430706e-01, 7.4912809e-02],\n",
              "       [1.5374220e-03, 6.0000771e-01, 3.9845493e-01],\n",
              "       [3.3336068e-03, 1.4653225e-01, 8.5013419e-01],\n",
              "       [3.1215588e-02, 1.5870159e-03, 9.6719736e-01],\n",
              "       [2.2033020e-03, 8.9665514e-01, 1.0114153e-01]], dtype=float32)"
            ]
          },
          "metadata": {},
          "execution_count": 62
        }
      ]
    },
    {
      "cell_type": "code",
      "metadata": {
        "id": "X8OhYUWfpv5o"
      },
      "source": [
        "classes=np.argmax(ypred,axis=1)"
      ],
      "execution_count": 63,
      "outputs": []
    },
    {
      "cell_type": "code",
      "metadata": {
        "colab": {
          "base_uri": "https://localhost:8080/"
        },
        "id": "wFfooGIwqIvP",
        "outputId": "b2c16ee2-55ff-4a01-f90a-3883b82c30f4"
      },
      "source": [
        "classes"
      ],
      "execution_count": 64,
      "outputs": [
        {
          "output_type": "execute_result",
          "data": {
            "text/plain": [
              "array([2, 2, 2, 2, 1, 2, 2, 1, 2, 2, 1, 1, 2, 1, 0, 0, 1, 2, 1, 0, 0, 2,\n",
              "       2, 1, 1, 2, 2, 1, 2, 2, 2, 2, 2, 0, 2, 2, 1, 0, 1, 1, 2, 1, 2, 2,\n",
              "       2, 1, 0, 2, 1, 0, 1, 2, 2, 1, 1, 2, 2, 1])"
            ]
          },
          "metadata": {},
          "execution_count": 64
        }
      ]
    },
    {
      "cell_type": "code",
      "metadata": {
        "id": "nInERM07qKLu"
      },
      "source": [
        ""
      ],
      "execution_count": null,
      "outputs": []
    },
    {
      "cell_type": "code",
      "metadata": {
        "id": "73xkEJl6qYlR"
      },
      "source": [
        ""
      ],
      "execution_count": null,
      "outputs": []
    },
    {
      "cell_type": "code",
      "metadata": {
        "colab": {
          "base_uri": "https://localhost:8080/",
          "height": 241
        },
        "id": "4EeIbwLOqYdB",
        "outputId": "8ae84010-a1d0-49ce-a1dc-ea31ff76ed22"
      },
      "source": [
        "img=image.load_img(\"/content/Datasets/Test/mercedes/44.jpg\",target_size=(224,224))\n",
        "img"
      ],
      "execution_count": 95,
      "outputs": [
        {
          "output_type": "execute_result",
          "data": {
            "image/png": "[encoded data removed]",
            "text/plain": [
              "<PIL.Image.Image image mode=RGB size=224x224 at 0x7F931A53FAD0>"
            ]
          },
          "metadata": {},
          "execution_count": 95
        }
      ]
    },
    {
      "cell_type": "code",
      "metadata": {
        "colab": {
          "base_uri": "https://localhost:8080/"
        },
        "id": "YS7Jl9T7qpf8",
        "outputId": "03ffb923-b6be-4411-ce81-3e5ce55dff2f"
      },
      "source": [
        "x=image.img_to_array(img)\n",
        "x"
      ],
      "execution_count": 96,
      "outputs": [
        {
          "output_type": "execute_result",
          "data": {
            "text/plain": [
              "array([[[227., 227., 215.],\n",
              "        [227., 227., 215.],\n",
              "        [227., 227., 215.],\n",
              "        ...,\n",
              "        [227., 227., 217.],\n",
              "        [227., 227., 217.],\n",
              "        [227., 227., 217.]],\n",
              "\n",
              "       [[227., 227., 215.],\n",
              "        [227., 227., 215.],\n",
              "        [227., 227., 215.],\n",
              "        ...,\n",
              "        [227., 227., 217.],\n",
              "        [227., 227., 217.],\n",
              "        [227., 227., 217.]],\n",
              "\n",
              "       [[227., 227., 215.],\n",
              "        [227., 227., 215.],\n",
              "        [227., 227., 215.],\n",
              "        ...,\n",
              "        [227., 227., 217.],\n",
              "        [227., 227., 217.],\n",
              "        [227., 227., 217.]],\n",
              "\n",
              "       ...,\n",
              "\n",
              "       [[ 62.,  71.,  66.],\n",
              "        [ 60.,  69.,  64.],\n",
              "        [ 60.,  69.,  64.],\n",
              "        ...,\n",
              "        [ 61.,  72.,  64.],\n",
              "        [ 61.,  72.,  64.],\n",
              "        [ 60.,  71.,  63.]],\n",
              "\n",
              "       [[ 61.,  70.,  65.],\n",
              "        [ 61.,  70.,  65.],\n",
              "        [ 61.,  70.,  65.],\n",
              "        ...,\n",
              "        [ 70.,  81.,  73.],\n",
              "        [ 70.,  81.,  73.],\n",
              "        [ 69.,  80.,  72.]],\n",
              "\n",
              "       [[ 61.,  70.,  65.],\n",
              "        [ 61.,  70.,  65.],\n",
              "        [ 61.,  70.,  65.],\n",
              "        ...,\n",
              "        [ 70.,  81.,  73.],\n",
              "        [ 70.,  81.,  73.],\n",
              "        [ 70.,  81.,  73.]]], dtype=float32)"
            ]
          },
          "metadata": {},
          "execution_count": 96
        }
      ]
    },
    {
      "cell_type": "code",
      "metadata": {
        "colab": {
          "base_uri": "https://localhost:8080/"
        },
        "id": "8qfV27Pnqyz_",
        "outputId": "1e4258ef-de21-4b90-f055-0ffef2cf0205"
      },
      "source": [
        "x.shape"
      ],
      "execution_count": 97,
      "outputs": [
        {
          "output_type": "execute_result",
          "data": {
            "text/plain": [
              "(224, 224, 3)"
            ]
          },
          "metadata": {},
          "execution_count": 97
        }
      ]
    },
    {
      "cell_type": "code",
      "metadata": {
        "colab": {
          "base_uri": "https://localhost:8080/"
        },
        "id": "LpG1FHKTq3oD",
        "outputId": "f603b40a-4245-4cb1-fd66-145eca6fce35"
      },
      "source": [
        "x=x/255\n",
        "x"
      ],
      "execution_count": 98,
      "outputs": [
        {
          "output_type": "execute_result",
          "data": {
            "text/plain": [
              "array([[[0.8901961 , 0.8901961 , 0.84313726],\n",
              "        [0.8901961 , 0.8901961 , 0.84313726],\n",
              "        [0.8901961 , 0.8901961 , 0.84313726],\n",
              "        ...,\n",
              "        [0.8901961 , 0.8901961 , 0.8509804 ],\n",
              "        [0.8901961 , 0.8901961 , 0.8509804 ],\n",
              "        [0.8901961 , 0.8901961 , 0.8509804 ]],\n",
              "\n",
              "       [[0.8901961 , 0.8901961 , 0.84313726],\n",
              "        [0.8901961 , 0.8901961 , 0.84313726],\n",
              "        [0.8901961 , 0.8901961 , 0.84313726],\n",
              "        ...,\n",
              "        [0.8901961 , 0.8901961 , 0.8509804 ],\n",
              "        [0.8901961 , 0.8901961 , 0.8509804 ],\n",
              "        [0.8901961 , 0.8901961 , 0.8509804 ]],\n",
              "\n",
              "       [[0.8901961 , 0.8901961 , 0.84313726],\n",
              "        [0.8901961 , 0.8901961 , 0.84313726],\n",
              "        [0.8901961 , 0.8901961 , 0.84313726],\n",
              "        ...,\n",
              "        [0.8901961 , 0.8901961 , 0.8509804 ],\n",
              "        [0.8901961 , 0.8901961 , 0.8509804 ],\n",
              "        [0.8901961 , 0.8901961 , 0.8509804 ]],\n",
              "\n",
              "       ...,\n",
              "\n",
              "       [[0.24313726, 0.2784314 , 0.25882354],\n",
              "        [0.23529412, 0.27058825, 0.2509804 ],\n",
              "        [0.23529412, 0.27058825, 0.2509804 ],\n",
              "        ...,\n",
              "        [0.23921569, 0.28235295, 0.2509804 ],\n",
              "        [0.23921569, 0.28235295, 0.2509804 ],\n",
              "        [0.23529412, 0.2784314 , 0.24705882]],\n",
              "\n",
              "       [[0.23921569, 0.27450982, 0.25490198],\n",
              "        [0.23921569, 0.27450982, 0.25490198],\n",
              "        [0.23921569, 0.27450982, 0.25490198],\n",
              "        ...,\n",
              "        [0.27450982, 0.31764707, 0.28627452],\n",
              "        [0.27450982, 0.31764707, 0.28627452],\n",
              "        [0.27058825, 0.3137255 , 0.28235295]],\n",
              "\n",
              "       [[0.23921569, 0.27450982, 0.25490198],\n",
              "        [0.23921569, 0.27450982, 0.25490198],\n",
              "        [0.23921569, 0.27450982, 0.25490198],\n",
              "        ...,\n",
              "        [0.27450982, 0.31764707, 0.28627452],\n",
              "        [0.27450982, 0.31764707, 0.28627452],\n",
              "        [0.27450982, 0.31764707, 0.28627452]]], dtype=float32)"
            ]
          },
          "metadata": {},
          "execution_count": 98
        }
      ]
    },
    {
      "cell_type": "code",
      "metadata": {
        "colab": {
          "base_uri": "https://localhost:8080/"
        },
        "id": "-ponM9lIq6jP",
        "outputId": "4c18e337-266f-4ca3-e5f2-7e16584507ba"
      },
      "source": [
        "x=np.expand_dims(x,axis=0)\n",
        "x"
      ],
      "execution_count": 99,
      "outputs": [
        {
          "output_type": "execute_result",
          "data": {
            "text/plain": [
              "array([[[[0.8901961 , 0.8901961 , 0.84313726],\n",
              "         [0.8901961 , 0.8901961 , 0.84313726],\n",
              "         [0.8901961 , 0.8901961 , 0.84313726],\n",
              "         ...,\n",
              "         [0.8901961 , 0.8901961 , 0.8509804 ],\n",
              "         [0.8901961 , 0.8901961 , 0.8509804 ],\n",
              "         [0.8901961 , 0.8901961 , 0.8509804 ]],\n",
              "\n",
              "        [[0.8901961 , 0.8901961 , 0.84313726],\n",
              "         [0.8901961 , 0.8901961 , 0.84313726],\n",
              "         [0.8901961 , 0.8901961 , 0.84313726],\n",
              "         ...,\n",
              "         [0.8901961 , 0.8901961 , 0.8509804 ],\n",
              "         [0.8901961 , 0.8901961 , 0.8509804 ],\n",
              "         [0.8901961 , 0.8901961 , 0.8509804 ]],\n",
              "\n",
              "        [[0.8901961 , 0.8901961 , 0.84313726],\n",
              "         [0.8901961 , 0.8901961 , 0.84313726],\n",
              "         [0.8901961 , 0.8901961 , 0.84313726],\n",
              "         ...,\n",
              "         [0.8901961 , 0.8901961 , 0.8509804 ],\n",
              "         [0.8901961 , 0.8901961 , 0.8509804 ],\n",
              "         [0.8901961 , 0.8901961 , 0.8509804 ]],\n",
              "\n",
              "        ...,\n",
              "\n",
              "        [[0.24313726, 0.2784314 , 0.25882354],\n",
              "         [0.23529412, 0.27058825, 0.2509804 ],\n",
              "         [0.23529412, 0.27058825, 0.2509804 ],\n",
              "         ...,\n",
              "         [0.23921569, 0.28235295, 0.2509804 ],\n",
              "         [0.23921569, 0.28235295, 0.2509804 ],\n",
              "         [0.23529412, 0.2784314 , 0.24705882]],\n",
              "\n",
              "        [[0.23921569, 0.27450982, 0.25490198],\n",
              "         [0.23921569, 0.27450982, 0.25490198],\n",
              "         [0.23921569, 0.27450982, 0.25490198],\n",
              "         ...,\n",
              "         [0.27450982, 0.31764707, 0.28627452],\n",
              "         [0.27450982, 0.31764707, 0.28627452],\n",
              "         [0.27058825, 0.3137255 , 0.28235295]],\n",
              "\n",
              "        [[0.23921569, 0.27450982, 0.25490198],\n",
              "         [0.23921569, 0.27450982, 0.25490198],\n",
              "         [0.23921569, 0.27450982, 0.25490198],\n",
              "         ...,\n",
              "         [0.27450982, 0.31764707, 0.28627452],\n",
              "         [0.27450982, 0.31764707, 0.28627452],\n",
              "         [0.27450982, 0.31764707, 0.28627452]]]], dtype=float32)"
            ]
          },
          "metadata": {},
          "execution_count": 99
        }
      ]
    },
    {
      "cell_type": "code",
      "metadata": {
        "colab": {
          "base_uri": "https://localhost:8080/"
        },
        "id": "lv44pTcvrQ5H",
        "outputId": "613064e8-8aa5-4e23-f0dd-3c8f5bec5578"
      },
      "source": [
        "x.shape"
      ],
      "execution_count": 100,
      "outputs": [
        {
          "output_type": "execute_result",
          "data": {
            "text/plain": [
              "(1, 224, 224, 3)"
            ]
          },
          "metadata": {},
          "execution_count": 100
        }
      ]
    },
    {
      "cell_type": "code",
      "metadata": {
        "colab": {
          "base_uri": "https://localhost:8080/"
        },
        "id": "aA1rhtK2rUNn",
        "outputId": "0c5f8d5f-e0e2-4428-e331-dd5d68b1c54d"
      },
      "source": [
        "img_data=preprocess_input(x)\n",
        "img_data"
      ],
      "execution_count": 101,
      "outputs": [
        {
          "output_type": "execute_result",
          "data": {
            "text/plain": [
              "array([[[[-103.09586 , -115.8888  , -122.7898  ],\n",
              "         [-103.09586 , -115.8888  , -122.7898  ],\n",
              "         [-103.09586 , -115.8888  , -122.7898  ],\n",
              "         ...,\n",
              "         [-103.08802 , -115.8888  , -122.7898  ],\n",
              "         [-103.08802 , -115.8888  , -122.7898  ],\n",
              "         [-103.08802 , -115.8888  , -122.7898  ]],\n",
              "\n",
              "        [[-103.09586 , -115.8888  , -122.7898  ],\n",
              "         [-103.09586 , -115.8888  , -122.7898  ],\n",
              "         [-103.09586 , -115.8888  , -122.7898  ],\n",
              "         ...,\n",
              "         [-103.08802 , -115.8888  , -122.7898  ],\n",
              "         [-103.08802 , -115.8888  , -122.7898  ],\n",
              "         [-103.08802 , -115.8888  , -122.7898  ]],\n",
              "\n",
              "        [[-103.09586 , -115.8888  , -122.7898  ],\n",
              "         [-103.09586 , -115.8888  , -122.7898  ],\n",
              "         [-103.09586 , -115.8888  , -122.7898  ],\n",
              "         ...,\n",
              "         [-103.08802 , -115.8888  , -122.7898  ],\n",
              "         [-103.08802 , -115.8888  , -122.7898  ],\n",
              "         [-103.08802 , -115.8888  , -122.7898  ]],\n",
              "\n",
              "        ...,\n",
              "\n",
              "        [[-103.680176, -116.500565, -123.43687 ],\n",
              "         [-103.68802 , -116.50841 , -123.44471 ],\n",
              "         [-103.68802 , -116.50841 , -123.44471 ],\n",
              "         ...,\n",
              "         [-103.68802 , -116.49664 , -123.44079 ],\n",
              "         [-103.68802 , -116.49664 , -123.44079 ],\n",
              "         [-103.69195 , -116.500565, -123.44471 ]],\n",
              "\n",
              "        [[-103.6841  , -116.504486, -123.44079 ],\n",
              "         [-103.6841  , -116.504486, -123.44079 ],\n",
              "         [-103.6841  , -116.504486, -123.44079 ],\n",
              "         ...,\n",
              "         [-103.652725, -116.46135 , -123.40549 ],\n",
              "         [-103.652725, -116.46135 , -123.40549 ],\n",
              "         [-103.65665 , -116.46527 , -123.40941 ]],\n",
              "\n",
              "        [[-103.6841  , -116.504486, -123.44079 ],\n",
              "         [-103.6841  , -116.504486, -123.44079 ],\n",
              "         [-103.6841  , -116.504486, -123.44079 ],\n",
              "         ...,\n",
              "         [-103.652725, -116.46135 , -123.40549 ],\n",
              "         [-103.652725, -116.46135 , -123.40549 ],\n",
              "         [-103.652725, -116.46135 , -123.40549 ]]]], dtype=float32)"
            ]
          },
          "metadata": {},
          "execution_count": 101
        }
      ]
    },
    {
      "cell_type": "code",
      "metadata": {
        "colab": {
          "base_uri": "https://localhost:8080/"
        },
        "id": "29jNWLpJrhyG",
        "outputId": "864758f8-141e-47ff-cdf3-a1f7f4f6782e"
      },
      "source": [
        "img_data.shape"
      ],
      "execution_count": 102,
      "outputs": [
        {
          "output_type": "execute_result",
          "data": {
            "text/plain": [
              "(1, 224, 224, 3)"
            ]
          },
          "metadata": {},
          "execution_count": 102
        }
      ]
    },
    {
      "cell_type": "code",
      "metadata": {
        "id": "FKvRn7PJrnQP"
      },
      "source": [
        "im_pred=model.predict(img_data)\n"
      ],
      "execution_count": 103,
      "outputs": []
    },
    {
      "cell_type": "code",
      "metadata": {
        "colab": {
          "base_uri": "https://localhost:8080/"
        },
        "id": "p1FSPnLdrv9x",
        "outputId": "969627ed-e443-4a26-a3c4-788a252111e1"
      },
      "source": [
        "np.argmax(im_pred,axis=1)"
      ],
      "execution_count": 105,
      "outputs": [
        {
          "output_type": "execute_result",
          "data": {
            "text/plain": [
              "array([2])"
            ]
          },
          "metadata": {},
          "execution_count": 105
        }
      ]
    },
    {
      "cell_type": "code",
      "metadata": {
        "id": "BRjYCrjDr17y"
      },
      "source": [
        ""
      ],
      "execution_count": 104,
      "outputs": []
    }
  ]
}